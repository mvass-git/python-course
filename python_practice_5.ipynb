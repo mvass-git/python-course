{
  "nbformat": 4,
  "nbformat_minor": 0,
  "metadata": {
    "colab": {
      "provenance": []
    },
    "kernelspec": {
      "name": "python3",
      "display_name": "Python 3"
    },
    "language_info": {
      "name": "python"
    }
  },
  "cells": [
    {
      "cell_type": "markdown",
      "source": [
        "# I. OOP"
      ],
      "metadata": {
        "id": "5qV_sehzFCTp"
      }
    },
    {
      "cell_type": "markdown",
      "source": [
        "1. (6б). Створіть клас Animal, додайте три атрибути, один з яких має значення за замовчуванням та два методи на свій розсуд."
      ],
      "metadata": {
        "id": "tx_U_hOALyfg"
      }
    },
    {
      "cell_type": "code",
      "source": [
        "class Animal:\n",
        "  def __init__(self, species, age, isAlive=True):\n",
        "    self.species = species\n",
        "    self.age = age\n",
        "    self.isAlive = isAlive\n",
        "\n",
        "  def live(self):\n",
        "    if self.isAlive:\n",
        "      self.age +=1\n",
        "    else:\n",
        "      print(\"animal is dead\")\n",
        "\n",
        "  def die(self):\n",
        "    if self.isAlive:\n",
        "      self.isAlive = False"
      ],
      "metadata": {
        "id": "-Vf895KaL88N"
      },
      "execution_count": 2,
      "outputs": []
    },
    {
      "cell_type": "markdown",
      "source": [
        "2. (2б). Створіть два обʼєкти цього класу, де один з обʼєктів створюється із дефолтним значенням атрибуту. На одному обʼєкті отримайте значення його атрибуту, а на іншому викличте один з його методів."
      ],
      "metadata": {
        "id": "X_UlOMB0L93w"
      }
    },
    {
      "cell_type": "code",
      "source": [
        "dog1 = Animal(\"Dog\", 2)\n",
        "dog2 = Animal(\"Dog\", 0)\n",
        "\n",
        "print(dog1.isAlive)\n",
        "dog2.die()\n"
      ],
      "metadata": {
        "id": "7gBu0ESOMCpG",
        "colab": {
          "base_uri": "https://localhost:8080/"
        },
        "outputId": "94764cba-87a4-43c2-bbdc-e44496a57b25"
      },
      "execution_count": 3,
      "outputs": [
        {
          "output_type": "stream",
          "name": "stdout",
          "text": [
            "True\n"
          ]
        }
      ]
    },
    {
      "cell_type": "markdown",
      "source": [
        "3. (5б). Створіть клас, де атрибути мають різні рівні доступу. Спробуйте отримати їхні значення та опишіть результати."
      ],
      "metadata": {
        "id": "HoqSCZt1MHn5"
      }
    },
    {
      "cell_type": "code",
      "source": [
        "class MyClass:\n",
        "    def __init__(self):\n",
        "        self.public_attribute = \"public\"\n",
        "        self._protected_attribute = \"protected\"\n",
        "        self.__private_attribute = \"private\"\n",
        "\n",
        "obj = MyClass()\n",
        "\n",
        "print(obj.public_attribute)  # 'public'\n",
        "print(obj._protected_attribute)  # 'protected'\n",
        "print(obj.__private_attribute)  # error"
      ],
      "metadata": {
        "id": "r9b3vJxBMSPV"
      },
      "execution_count": null,
      "outputs": []
    },
    {
      "cell_type": "markdown",
      "source": [
        "4. (7б). Як ви розумієте термін self? Для чого використовується метод __init __?"
      ],
      "metadata": {
        "id": "5op2m2vgMSkZ"
      }
    },
    {
      "cell_type": "markdown",
      "source": [
        "self можна вважати посиланням на об'єкт, який буде викликати метод або звертатися до поля.\n",
        "Метод __init__–це конструктор класу, викликається при створенні екземпляру, необхідний для ініціалізації початкових значень."
      ],
      "metadata": {
        "id": "DyiPqNRvMasx"
      }
    },
    {
      "cell_type": "markdown",
      "source": [
        "5. (9б). Створіть клас Фігура без атрибутів, з методом get_area для отримання площі фігури, що повертає 0 та __add __, який приймає self та other в якості аргументів, а повертає суму площин фігур self та other."
      ],
      "metadata": {
        "id": "-6X8EGfjMd2y"
      }
    },
    {
      "cell_type": "code",
      "source": [
        "class Figure:\n",
        "    def get_area(self):\n",
        "        return 0\n",
        "\n",
        "    def __add__(self, other):\n",
        "        return self.get_area() + other.get_area()"
      ],
      "metadata": {
        "id": "4rvO_wYUMaEr"
      },
      "execution_count": 4,
      "outputs": []
    },
    {
      "cell_type": "markdown",
      "source": [
        "6. (11б). Створіть 2 дочірніх класи від Фігури: Трикутник та Коло, які мають атрибути, необхідні для розрахунку площин. Визначте метод get_area в кожному з них так, щоби вони розраховували площу в залежності від формули для кожного типу фігури. Створіть обʼєкт класу Трикутник та обʼєкт класу Коло. Виконайте операцію суми за допомогою оператора + між ними."
      ],
      "metadata": {
        "id": "SFcKnnv5Mo_z"
      }
    },
    {
      "cell_type": "code",
      "source": [
        "class Triangle(Figure):\n",
        "    def __init__(self, base, height):\n",
        "        self.base = base\n",
        "        self.height = height\n",
        "\n",
        "    def get_area(self):\n",
        "        return 0.5 * self.base * self.height\n",
        "\n",
        "\n",
        "class Circle(Figure):\n",
        "    def __init__(self, radius):\n",
        "        self.radius = radius\n",
        "\n",
        "    def get_area(self):\n",
        "        return 3.14 * self.radius * self.radius\n",
        "\n",
        "\n",
        "triangle = Triangle(5, 10)\n",
        "circle = Circle(5)\n",
        "triangle_area = triangle.get_area()\n",
        "circle_area = circle.get_area()\n",
        "\n",
        "total_area = triangle + circle\n",
        "print(triangle_area, circle_area, total_area)"
      ],
      "metadata": {
        "id": "H3GVNr69Muf3",
        "colab": {
          "base_uri": "https://localhost:8080/"
        },
        "outputId": "159021c2-3401-411e-b149-e032161525f0"
      },
      "execution_count": 6,
      "outputs": [
        {
          "output_type": "stream",
          "name": "stdout",
          "text": [
            "25.0 78.5 103.5\n"
          ]
        }
      ]
    },
    {
      "cell_type": "markdown",
      "source": [
        "7. (3б). Продемонструйте різницю між isinstance та issubclass."
      ],
      "metadata": {
        "id": "HCvR206YMvLK"
      }
    },
    {
      "cell_type": "code",
      "source": [
        "print(isinstance(triangle, Figure))  # True\n",
        "print(isinstance(triangle, Triangle))  # True, так як B є підкласом A\n",
        "print(issubclass(Triangle, Figure))  # True\n",
        "print(issubclass(Figure, Triangle))  # False, так як A не є підкласом B"
      ],
      "metadata": {
        "id": "L_V1bBvDM0GN",
        "colab": {
          "base_uri": "https://localhost:8080/"
        },
        "outputId": "8d591e3e-cf91-420c-f061-c91c99241a31"
      },
      "execution_count": 7,
      "outputs": [
        {
          "output_type": "stream",
          "name": "stdout",
          "text": [
            "True\n",
            "True\n",
            "True\n",
            "False\n"
          ]
        }
      ]
    },
    {
      "cell_type": "markdown",
      "source": [
        "8. (13б). Створіть клас BankAccount з приватними атрибутами balance та account_number. Реалізуйте методи поповнення та зняття коштів, забезпечивши належну інкапсуляцію. Підказка: використовуйте декоратори property та setter."
      ],
      "metadata": {
        "id": "jjsaBZ-iM0Qq"
      }
    },
    {
      "cell_type": "code",
      "source": [
        "class BankAccount:\n",
        "    def __init__(self, initial_balance, account_number):\n",
        "        self._balance = initial_balance\n",
        "        self._account_number = account_number\n",
        "\n",
        "    @property\n",
        "    def balance(self):\n",
        "        return self._balance\n",
        "\n",
        "    @property\n",
        "    def account_number(self):\n",
        "        return self._account_number\n",
        "\n",
        "    @balance.setter\n",
        "    def deposit(self, amount):\n",
        "        if amount > 0:\n",
        "            self._balance += amount\n",
        "        else:\n",
        "            print(\"Amount must be positive.\")\n",
        "\n",
        "    @balance.setter\n",
        "    def withdraw(self, amount):\n",
        "        if amount <= self._balance:\n",
        "            self._balance -= amount\n",
        "        else:\n",
        "            print(\"Insufficient funds.\")"
      ],
      "metadata": {
        "id": "xCvZ7lh8M7YA"
      },
      "execution_count": 8,
      "outputs": []
    },
    {
      "cell_type": "markdown",
      "source": [
        "9. (11б). Створіть клас Library, який містить список об'єктів типу Book. Реалізуйте методи для додавання книги, видалення книги та відображення списку книг."
      ],
      "metadata": {
        "id": "tIzL2SJTM8ft"
      }
    },
    {
      "cell_type": "code",
      "source": [
        "class Book:\n",
        "    def __init__(self, title, author):\n",
        "        self.title = title\n",
        "        self.author = author\n",
        "\n",
        "class Library:\n",
        "    def __init__(self):\n",
        "        self.books = []\n",
        "\n",
        "    def add_book(self, book):\n",
        "        self.books.append(book)\n",
        "\n",
        "    def remove_book(self, book):\n",
        "        if book in self.books:\n",
        "            self.books.remove(book)\n",
        "        else:\n",
        "            print(f\"{book.title} by {book.author} is not in the library.\")\n",
        "\n",
        "    def display_books(self):\n",
        "        if self.books:\n",
        "            for book in self.books:\n",
        "                print(f\"{book.title} by {book.author}\")\n",
        "        else:\n",
        "            print(\"The library is empty.\")"
      ],
      "metadata": {
        "id": "HWxfJKLtNAUZ"
      },
      "execution_count": 9,
      "outputs": []
    },
    {
      "cell_type": "markdown",
      "source": [
        "10. (13б). Створіть клас Person з атрибутами name та age. Створіть ще один клас Employee з такими атрибутами, як department та salary. Створіть клас Manager, який успадковує обидва класи Person та Employee. Продемонструйте використання множинної спадковості, створивши обʼєкт класу Manager та отримавши mro для цього класу."
      ],
      "metadata": {
        "id": "lmV8pAwwNIqu"
      }
    },
    {
      "cell_type": "code",
      "source": [
        "class Person:\n",
        "    def __init__(self, name, age):\n",
        "        self.name = name\n",
        "        self.age = age\n",
        "\n",
        "class Employee:\n",
        "    def __init__(self, department, salary):\n",
        "        self.department = department\n",
        "        self.salary = salary\n",
        "\n",
        "class Manager(Person, Employee):\n",
        "    def __init__(self, name, age, department, salary):\n",
        "        Person.__init__(self, name, age)\n",
        "        Employee.__init__(self, department, salary)\n",
        "\n",
        "manager = Manager(\"John Doe\", 40, \"HR\", 50000)\n",
        "\n",
        "print(manager.name)  # John Doe\n",
        "print(manager.age)  # 40\n",
        "print(manager.department)  # HR\n",
        "print(manager.salary)  # 50000\n",
        "\n",
        "print(Manager.mro())"
      ],
      "metadata": {
        "id": "R49grKlWNPeN",
        "colab": {
          "base_uri": "https://localhost:8080/"
        },
        "outputId": "9815b0ec-72ea-4f28-b24d-d5f0eaf5c8df"
      },
      "execution_count": 10,
      "outputs": [
        {
          "output_type": "stream",
          "name": "stdout",
          "text": [
            "John Doe\n",
            "40\n",
            "HR\n",
            "50000\n",
            "[<class '__main__.Manager'>, <class '__main__.Person'>, <class '__main__.Employee'>, <class 'object'>]\n"
          ]
        }
      ]
    },
    {
      "cell_type": "markdown",
      "source": [
        "# II. Iterator"
      ],
      "metadata": {
        "id": "dIJyUiNBFG8G"
      }
    },
    {
      "cell_type": "markdown",
      "source": [
        "11. (4б). Визначте рядок(str) з 4ма різними за значенням символами. Створіть ітератор на основі цього рядка. Викличте 5 разів функцію next на ітераторі, 4ри перших з них огорніть у ф-цію print()."
      ],
      "metadata": {
        "id": "13vsm0NyKIzL"
      }
    },
    {
      "cell_type": "code",
      "source": [
        "my_string = \"abcd\"\n",
        "my_iterator = iter(my_string)\n",
        "for i in range(5):\n",
        "    if i < 4:\n",
        "        print(next(my_iterator))\n",
        "    else:\n",
        "        next(my_iterator)"
      ],
      "metadata": {
        "id": "81ntabAkKuz-",
        "colab": {
          "base_uri": "https://localhost:8080/",
          "height": 245
        },
        "outputId": "e45a6d30-4522-4234-9f51-dd1e3cedc6cc"
      },
      "execution_count": 11,
      "outputs": [
        {
          "output_type": "stream",
          "name": "stdout",
          "text": [
            "a\n",
            "b\n",
            "c\n",
            "d\n"
          ]
        },
        {
          "output_type": "error",
          "ename": "StopIteration",
          "evalue": "",
          "traceback": [
            "\u001b[0;31m---------------------------------------------------------------------------\u001b[0m",
            "\u001b[0;31mStopIteration\u001b[0m                             Traceback (most recent call last)",
            "\u001b[0;32m<ipython-input-11-ce68ea4a8fce>\u001b[0m in \u001b[0;36m<cell line: 3>\u001b[0;34m()\u001b[0m\n\u001b[1;32m      5\u001b[0m         \u001b[0mprint\u001b[0m\u001b[0;34m(\u001b[0m\u001b[0mnext\u001b[0m\u001b[0;34m(\u001b[0m\u001b[0mmy_iterator\u001b[0m\u001b[0;34m)\u001b[0m\u001b[0;34m)\u001b[0m\u001b[0;34m\u001b[0m\u001b[0;34m\u001b[0m\u001b[0m\n\u001b[1;32m      6\u001b[0m     \u001b[0;32melse\u001b[0m\u001b[0;34m:\u001b[0m\u001b[0;34m\u001b[0m\u001b[0;34m\u001b[0m\u001b[0m\n\u001b[0;32m----> 7\u001b[0;31m         \u001b[0mnext\u001b[0m\u001b[0;34m(\u001b[0m\u001b[0mmy_iterator\u001b[0m\u001b[0;34m)\u001b[0m\u001b[0;34m\u001b[0m\u001b[0;34m\u001b[0m\u001b[0m\n\u001b[0m",
            "\u001b[0;31mStopIteration\u001b[0m: "
          ]
        }
      ]
    },
    {
      "cell_type": "markdown",
      "source": [
        "А що якщо викликати цю ж функцію на рядку?"
      ],
      "metadata": {
        "id": "aekWHGXOLRsO"
      }
    },
    {
      "cell_type": "code",
      "source": [
        "next(my_string)"
      ],
      "metadata": {
        "id": "mxATGsErLV1i",
        "colab": {
          "base_uri": "https://localhost:8080/",
          "height": 141
        },
        "outputId": "8a9697ff-2f32-4fdf-987d-e2135cc27489"
      },
      "execution_count": 12,
      "outputs": [
        {
          "output_type": "error",
          "ename": "TypeError",
          "evalue": "'str' object is not an iterator",
          "traceback": [
            "\u001b[0;31m---------------------------------------------------------------------------\u001b[0m",
            "\u001b[0;31mTypeError\u001b[0m                                 Traceback (most recent call last)",
            "\u001b[0;32m<ipython-input-12-536fe210e95a>\u001b[0m in \u001b[0;36m<cell line: 1>\u001b[0;34m()\u001b[0m\n\u001b[0;32m----> 1\u001b[0;31m \u001b[0mnext\u001b[0m\u001b[0;34m(\u001b[0m\u001b[0mmy_string\u001b[0m\u001b[0;34m)\u001b[0m\u001b[0;34m\u001b[0m\u001b[0;34m\u001b[0m\u001b[0m\n\u001b[0m",
            "\u001b[0;31mTypeError\u001b[0m: 'str' object is not an iterator"
          ]
        }
      ]
    },
    {
      "cell_type": "markdown",
      "source": [
        " 12. (5б). Опишіть своїми словами в одному реченні, як ви розумієте різницю між ітерабельними обʼєктами та ітераторами (можна на прикладі)."
      ],
      "metadata": {
        "id": "XwtMEopwJ4pH"
      }
    },
    {
      "cell_type": "markdown",
      "source": [
        "Ітерабельні об'єкти–це колекції, які можна перебирати за допомогою циклу або ітератора, а ітератор–об'єкт, що послідовно видає елеименти ітерабельного об'єкту."
      ],
      "metadata": {
        "id": "-sHrODc3KFn8"
      }
    },
    {
      "cell_type": "markdown",
      "source": [
        "13. (11б). Створіть клас, що має визначений Iterator Protocol та при кожному виклику next повертає літери англійської абетки, поки вони не вичерпаються."
      ],
      "metadata": {
        "id": "E9qJWmNbK8Gl"
      }
    },
    {
      "cell_type": "code",
      "source": [
        "class Alphabet:\n",
        "    def __init__(self):\n",
        "        self.letters = \"abcdefghijklmnopqrstuvwxyz\"\n",
        "        self.index = 0\n",
        "\n",
        "    def __iter__(self):\n",
        "        return self\n",
        "\n",
        "    def __next__(self):\n",
        "        if self.index >= len(self.letters):\n",
        "            raise StopIteration\n",
        "        else:\n",
        "            letter = self.letters[self.index]\n",
        "            self.index += 1\n",
        "            return letter\n",
        "\n",
        "\n",
        "alphabet = Alphabet()\n",
        "\n",
        "for letter in alphabet:\n",
        "    print(letter)"
      ],
      "metadata": {
        "id": "cqx-g_RsLo6I",
        "colab": {
          "base_uri": "https://localhost:8080/"
        },
        "outputId": "4709d085-e68f-4678-a2ed-789c8341f073"
      },
      "execution_count": 13,
      "outputs": [
        {
          "output_type": "stream",
          "name": "stdout",
          "text": [
            "a\n",
            "b\n",
            "c\n",
            "d\n",
            "e\n",
            "f\n",
            "g\n",
            "h\n",
            "i\n",
            "j\n",
            "k\n",
            "l\n",
            "m\n",
            "n\n",
            "o\n",
            "p\n",
            "q\n",
            "r\n",
            "s\n",
            "t\n",
            "u\n",
            "v\n",
            "w\n",
            "x\n",
            "y\n",
            "z\n"
          ]
        }
      ]
    },
    {
      "cell_type": "markdown",
      "source": [
        "# Вітаю! Ви велика(ий) молодець, що впоралась(вся). Похваліть себе та побалуйте чимось приємним. Я Вами пишаюся."
      ],
      "metadata": {
        "id": "Z3E3S_s1Fv7-"
      }
    }
  ]
}